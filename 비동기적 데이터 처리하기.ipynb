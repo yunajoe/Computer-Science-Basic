{
 "cells": [
  {
   "cell_type": "code",
   "execution_count": 10,
   "id": "64d4cadd",
   "metadata": {},
   "outputs": [
    {
     "data": {
      "text/plain": [
       "[]"
      ]
     },
     "execution_count": 10,
     "metadata": {},
     "output_type": "execute_result"
    }
   ],
   "source": [
    "import requests\n",
    "from bs4 import BeautifulSoup as bs\n",
    "\n",
    "url = 'https://finance.daum.net'\n",
    "res = requests.get(url)\n",
    "soup = bs(res.text, \"html.parser\")\n",
    "data = soup.findAll(\"rankingB\", {\"id\" : \"boxBestSearchs\"})\n",
    "data"
   ]
  },
  {
   "cell_type": "code",
   "execution_count": null,
   "id": "faa98842",
   "metadata": {},
   "outputs": [],
   "source": [
    "# Ajax를 통해 비동기적으로 데이터를 불러왔기 때문이다. \n",
    "- JavaScript의 라이브러리중 하나이며 Asynchronous Javascript And Xml(비동기식 자바스크립트와 xml)의 약자\n",
    "- AJAX라는 기술은 여러가지 기술이 혼합적으로 사용\n",
    "(HTML, DOM, JavaScript, XMLHttpRequest) \n",
    "-  자바스크립트를 통해서 서버에 데이터를 요청하는 것\n",
    "\n",
    "--------------------------------------------------------------\n",
    "# 비동리 처리 데이터는 어떻게 가져올까?!\n",
    "1.Selenium을 이용해 headless browser로 접근하여 동적 데이터를 로드시켜 가져오는 것\n",
    "2.직접 필요 데이터에 접근하여 정적인 데이터를 가져오는 것\n"
   ]
  },
  {
   "cell_type": "code",
   "execution_count": null,
   "id": "5a471f92",
   "metadata": {},
   "outputs": [],
   "source": [
    "# 여기서는 직접 데이터에 접근한다. "
   ]
  },
  {
   "cell_type": "code",
   "execution_count": null,
   "id": "5fd6ee96",
   "metadata": {},
   "outputs": [],
   "source": [
    "# 개발자도구에서 Network 탭을 누르고 Name중에 'rank10'를 눌러보쟈 \n",
    "# preview를 보면은 해당하는 데이터가 보이고, "
   ]
  },
  {
   "cell_type": "code",
   "execution_count": null,
   "id": "20929f6b",
   "metadata": {},
   "outputs": [],
   "source": [
    "## 출처\n",
    "- https://beomi.github.io/2017/02/27/HowToMakeWebCrawler-With-Selenium/\n",
    "- https://souljit2.tistory.com/7"
   ]
  },
  {
   "cell_type": "code",
   "execution_count": 14,
   "id": "0f461caf",
   "metadata": {},
   "outputs": [
    {
     "data": {
      "text/plain": [
       "<Response [403]>"
      ]
     },
     "execution_count": 14,
     "metadata": {},
     "output_type": "execute_result"
    }
   ],
   "source": [
    "url = \"https://finance.daum.net/api/search/ranks?limit=10\"\n",
    "res = requests.get(url)\n",
    "res"
   ]
  },
  {
   "cell_type": "code",
   "execution_count": null,
   "id": "a1cfa98a",
   "metadata": {},
   "outputs": [],
   "source": [
    "# 오류 403을 고쳐보쟈 \n",
    "# header추가하기 "
   ]
  },
  {
   "cell_type": "code",
   "execution_count": 15,
   "id": "89ca749c",
   "metadata": {},
   "outputs": [
    {
     "name": "stdout",
     "output_type": "stream",
     "text": [
      "header없는 url요청 : <Response [403]>\n",
      "header가 있는 url요청 <Response [200]>\n"
     ]
    }
   ],
   "source": [
    "url = \"https://finance.daum.net/api/search/ranks?limit=10\"\n",
    "res = requests.get(url)\n",
    "print('header없는 url요청 :',res)\n",
    "\n",
    "\n",
    "headers = {\n",
    "            'Referer': 'http://finance.daum.net',\n",
    "            'User-Agent':'Mozilla/5.0 (Windows NT 6.1) AppleWebKit/537.36 (KHTML, like Gecko) Chrome/71.0.3578.98 Safari/537.36 OPR/58.0.3135.127'\n",
    "}\n",
    "res = requests.get(url, headers=headers)\n",
    "print(\"header가 있는 url요청\", res)"
   ]
  },
  {
   "cell_type": "code",
   "execution_count": null,
   "id": "36f0f8b3",
   "metadata": {},
   "outputs": [],
   "source": [
    "# XHR 데이터에 직접 접근하는 경우에는 JSON 형태로 데이터를 받아와야 한다."
   ]
  },
  {
   "cell_type": "code",
   "execution_count": 16,
   "id": "683a82b9",
   "metadata": {},
   "outputs": [
    {
     "name": "stdout",
     "output_type": "stream",
     "text": [
      "{'data': [{'rank': 1, 'rankChange': 0, 'symbolCode': 'A005930', 'code': 'KR7005930003', 'name': '삼성전자', 'tradePrice': 60700, 'change': 'FALL', 'changePrice': 1200, 'changeRate': 0.0193861066, 'chartSlideImage': None, 'isNew': False}, {'rank': 2, 'rankChange': 0, 'symbolCode': 'A035720', 'code': 'KR7035720002', 'name': '카카오', 'tradePrice': 72700, 'change': 'FALL', 'changePrice': 100, 'changeRate': 0.0013736264, 'chartSlideImage': None, 'isNew': False}, {'rank': 3, 'rankChange': 0, 'symbolCode': 'A366030', 'code': 'KR7366030005', 'name': '공구우먼', 'tradePrice': 13700, 'change': 'FALL', 'changePrice': 600, 'changeRate': 0.041958042, 'chartSlideImage': None, 'isNew': False}, {'rank': 4, 'rankChange': 1, 'symbolCode': 'A044060', 'code': 'KR7044060002', 'name': '조광ILI', 'tradePrice': 3400, 'change': 'FALL', 'changePrice': 1285, 'changeRate': 0.2742796158, 'chartSlideImage': None, 'isNew': False}, {'rank': 5, 'rankChange': 1, 'symbolCode': 'A019170', 'code': 'KR7019170000', 'name': '신풍제약', 'tradePrice': 31150, 'change': 'RISE', 'changePrice': 4050, 'changeRate': 0.1494464945, 'chartSlideImage': None, 'isNew': False}, {'rank': 6, 'rankChange': 4, 'symbolCode': 'A373220', 'code': 'KR7373220003', 'name': 'LG에너지솔루션', 'tradePrice': 382500, 'change': 'FALL', 'changePrice': 10500, 'changeRate': 0.0267175573, 'chartSlideImage': None, 'isNew': False}, {'rank': 7, 'rankChange': 0, 'symbolCode': 'A249420', 'code': 'KR7249420001', 'name': '일동제약', 'tradePrice': 53100, 'change': 'FALL', 'changePrice': 4400, 'changeRate': 0.0765217391, 'chartSlideImage': None, 'isNew': False}, {'rank': 8, 'rankChange': -4, 'symbolCode': 'A403870', 'code': 'KR7403870009', 'name': 'HPSP', 'tradePrice': 55400, 'change': 'RISE', 'changePrice': 3900, 'changeRate': 0.0757281553, 'chartSlideImage': None, 'isNew': False}, {'rank': 9, 'rankChange': 0, 'symbolCode': 'A011000', 'code': 'KR7011000007', 'name': '진원생명과학', 'tradePrice': 15450, 'change': 'RISE', 'changePrice': 50, 'changeRate': 0.0032467532, 'chartSlideImage': None, 'isNew': False}, {'rank': 10, 'rankChange': 0, 'symbolCode': 'A068270', 'code': 'KR7068270008', 'name': '셀트리온', 'tradePrice': 183500, 'change': 'RISE', 'changePrice': 500, 'changeRate': 0.0027322404, 'chartSlideImage': None, 'isNew': True}]}\n"
     ]
    }
   ],
   "source": [
    "import requests\n",
    "from bs4 import BeautifulSoup as bs\n",
    "\n",
    "url = 'https://finance.daum.net/api/search/ranks?limit=10'\n",
    "headers = {\n",
    "            'Referer': 'http://finance.daum.net',\n",
    "            'User-Agent':'Mozilla/5.0 (Windows NT 6.1) AppleWebKit/537.36 (KHTML, like Gecko) Chrome/71.0.3578.98 Safari/537.36 OPR/58.0.3135.127'\n",
    "}\n",
    "response = requests.get(url, headers=headers)\n",
    "jsonObj = response.json()\n",
    "print(jsonObj)"
   ]
  },
  {
   "cell_type": "code",
   "execution_count": null,
   "id": "70902c1c",
   "metadata": {},
   "outputs": [],
   "source": [
    "# 정리\n",
    "- Ajax로 처리되는 데이터는 단순히 get 요청으로 불러올 수 없어서, Selenium을 이용하거나\n",
    "XHR 데이터 url에 직접 접근하는 방법으로 크롤링\n",
    "\n",
    "- XHR 데이터에 직접 접근하는 것을 막아놓는 경우가 있는데, 보통 헤더 정보가 없어서 그런 경우가 많다.\n",
    "그런 경우에 헤더를 추가해주면 대부분 해결됨\n",
    "\n",
    "-XHR에 직접 접근할 경우 JSON 데이터로 반환되기 때문에 json parsing을 해주어야 한다.\n",
    "\n",
    "# 출처: https://souljit2.tistory.com/7"
   ]
  }
 ],
 "metadata": {
  "kernelspec": {
   "display_name": "Python 3 (ipykernel)",
   "language": "python",
   "name": "python3"
  },
  "language_info": {
   "codemirror_mode": {
    "name": "ipython",
    "version": 3
   },
   "file_extension": ".py",
   "mimetype": "text/x-python",
   "name": "python",
   "nbconvert_exporter": "python",
   "pygments_lexer": "ipython3",
   "version": "3.8.13"
  }
 },
 "nbformat": 4,
 "nbformat_minor": 5
}
